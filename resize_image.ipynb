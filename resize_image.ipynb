{
 "cells": [
  {
   "cell_type": "code",
   "execution_count": 14,
   "metadata": {
    "collapsed": true
   },
   "outputs": [],
   "source": [
    "import os\n",
    "from subprocess import run"
   ]
  },
  {
   "cell_type": "code",
   "execution_count": 38,
   "metadata": {
    "collapsed": true
   },
   "outputs": [],
   "source": [
    "# Collect all tif images in the \"images\" directory for clipping\n",
    "input_images = []\n",
    "output_images = []\n",
    "for path, dirs, files in os.walk('./images'):\n",
    "    for filename in files:\n",
    "        if '.TIF' in filename:\n",
    "            input_images.append(os.path.join(path, filename))\n",
    "            sub_strings = os.path.splitext(filename)\n",
    "            out_name = sub_strings[0] + '_clipped' + sub_strings[1]\n",
    "            output_images.append(os.path.join(path, out_name))\n",
    "            \n",
    "# Variables for mask\n",
    "height = 5400 # num pixels from N-S\n",
    "width = 3200 # num pixels from W-E\n",
    "\n",
    "# Coordinates in Easting and Northing for clipping\n",
    "ulx = 454155\n",
    "uly = 9117345\n",
    "lrx = 550155\n",
    "lry = 8955345"
   ]
  },
  {
   "cell_type": "code",
   "execution_count": 39,
   "metadata": {
    "collapsed": false
   },
   "outputs": [],
   "source": [
    "# Clip all the images to the same bounding box\n",
    "for input_image, output_image in zip(input_images, output_images):\n",
    "    command_args = ['rio', 'clip', input_image, output_image, '--bounds', str(ulx), str(lry), str(lrx), str(uly)]\n",
    "    run(command_args)"
   ]
  },
  {
   "cell_type": "code",
   "execution_count": null,
   "metadata": {
    "collapsed": true
   },
   "outputs": [],
   "source": []
  }
 ],
 "metadata": {
  "anaconda-cloud": {},
  "kernelspec": {
   "display_name": "Python [default]",
   "language": "python",
   "name": "python3"
  },
  "language_info": {
   "codemirror_mode": {
    "name": "ipython",
    "version": 3
   },
   "file_extension": ".py",
   "mimetype": "text/x-python",
   "name": "python",
   "nbconvert_exporter": "python",
   "pygments_lexer": "ipython3",
   "version": "3.5.2"
  }
 },
 "nbformat": 4,
 "nbformat_minor": 1
}
