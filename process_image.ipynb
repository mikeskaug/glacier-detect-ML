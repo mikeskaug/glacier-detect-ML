{
 "cells": [
  {
   "cell_type": "code",
   "execution_count": 1,
   "metadata": {
    "collapsed": true
   },
   "outputs": [],
   "source": [
    "import tensorflow as tf\n",
    "import rasterio\n",
    "import numpy as np\n",
    "import matplotlib.pyplot as plt\n",
    "%matplotlib inline"
   ]
  },
  {
   "cell_type": "code",
   "execution_count": 5,
   "metadata": {
    "collapsed": true
   },
   "outputs": [],
   "source": [
    "image_prefix = \"./images/cropped/LE70332482010173EDC00\"\n",
    "band_postfix = ['_B1_clipped.TIF', '_B2_clipped.TIF', '_B3_clipped.TIF', '_B4_clipped.TIF',\n",
    "                '_B5_clipped.TIF', '_B6_VCID_2_clipped.TIF', '_B7_clipped.TIF']\n",
    "rows = 5400\n",
    "cols = 3200\n",
    "feature_set = np.ones((rows * cols, 7))\n",
    "num_categories = 2"
   ]
  },
  {
   "cell_type": "code",
   "execution_count": 6,
   "metadata": {
    "collapsed": false
   },
   "outputs": [],
   "source": [
    "for index, value in enumerate(band_postfix):\n",
    "    image_path = image_prefix + value\n",
    "    with rasterio.open(image_path) as dataset:\n",
    "            bounds = dataset.bounds\n",
    "            band = dataset.read(1)\n",
    "            feature_set[:, index] = np.reshape(band, rows*cols)\n",
    "\n",
    "# Normalize feature values\n",
    "feature_set_shift = feature_set - feature_set.min(axis=0)\n",
    "feature_set_norm = feature_set_shift / feature_set_shift.max(axis=0)"
   ]
  },
  {
   "cell_type": "code",
   "execution_count": 13,
   "metadata": {
    "collapsed": false
   },
   "outputs": [],
   "source": [
    "x = tf.placeholder(tf.float32, [None, feature_set_norm.shape[1]])\n",
    "W = tf.Variable(tf.zeros([feature_set_norm.shape[1], num_categories]))\n",
    "b = tf.Variable(tf.zeros([num_categories]))\n",
    "y = tf.nn.softmax(tf.matmul(x, W) + b)\n",
    "\n",
    "saver = tf.train.Saver()\n",
    "prediction = tf.argmax(y,1)\n",
    "with tf.Session() as sess:\n",
    "    saver.restore(sess, \"./output/model.ckpt\")\n",
    "    categories = sess.run(prediction, feed_dict={x: feature_set_norm})\n",
    "\n",
    "    "
   ]
  },
  {
   "cell_type": "code",
   "execution_count": 8,
   "metadata": {
    "collapsed": false
   },
   "outputs": [],
   "source": [
    "labeled_image = np.reshape(categories, (rows, cols))"
   ]
  },
  {
   "cell_type": "code",
   "execution_count": 9,
   "metadata": {
    "collapsed": false
   },
   "outputs": [
    {
     "data": {
      "text/plain": [
       "<matplotlib.image.AxesImage at 0x1158cc780>"
      ]
     },
     "execution_count": 9,
     "metadata": {},
     "output_type": "execute_result"
    },
    {
     "data": {
      "image/png": "[encoded data removed]",
      "text/plain": [
       "<matplotlib.figure.Figure at 0x14e36c7f0>"
      ]
     },
     "metadata": {},
     "output_type": "display_data"
    }
   ],
   "source": [
    "fig = plt.figure(figsize = (15,15))\n",
    "plt.imshow(labeled_image, cmap='gray')"
   ]
  },
  {
   "cell_type": "code",
   "execution_count": 18,
   "metadata": {
    "collapsed": false
   },
   "outputs": [
    {
     "data": {
      "text/plain": [
       "array([[ 0.75294118,  0.6627451 ,  0.74509804,  0.46963563,  0.        ,\n",
       "         0.        ,  0.        ],\n",
       "       [ 0.        ,  0.        ,  0.        ,  0.        ,  0.        ,\n",
       "         0.        ,  0.        ],\n",
       "       [ 0.        ,  0.        ,  0.        ,  0.        ,  0.        ,\n",
       "         0.        ,  0.        ],\n",
       "       [ 0.        ,  0.        ,  0.        ,  0.        ,  0.        ,\n",
       "         0.        ,  0.        ],\n",
       "       [ 0.        ,  0.        ,  0.        ,  0.        ,  0.        ,\n",
       "         0.        ,  0.        ],\n",
       "       [ 0.        ,  0.        ,  0.        ,  0.        ,  0.        ,\n",
       "         0.        ,  0.        ],\n",
       "       [ 0.        ,  0.        ,  0.        ,  0.        ,  0.        ,\n",
       "         0.        ,  0.        ],\n",
       "       [ 0.        ,  0.        ,  0.        ,  0.        ,  0.        ,\n",
       "         0.        ,  0.        ],\n",
       "       [ 0.        ,  0.        ,  0.        ,  0.        ,  0.        ,\n",
       "         0.        ,  0.        ],\n",
       "       [ 0.        ,  0.        ,  0.        ,  0.        ,  0.        ,\n",
       "         0.        ,  0.        ],\n",
       "       [ 0.        ,  0.        ,  0.        ,  0.        ,  0.        ,\n",
       "         0.        ,  0.        ],\n",
       "       [ 0.        ,  0.        ,  0.        ,  0.        ,  0.        ,\n",
       "         0.        ,  0.        ],\n",
       "       [ 0.        ,  0.        ,  0.        ,  0.        ,  0.        ,\n",
       "         0.        ,  0.        ],\n",
       "       [ 0.        ,  0.        ,  0.        ,  0.        ,  0.        ,\n",
       "         0.        ,  0.        ],\n",
       "       [ 0.        ,  0.        ,  0.        ,  0.        ,  0.        ,\n",
       "         0.        ,  0.        ],\n",
       "       [ 0.76470588,  0.6745098 ,  0.76078431,  0.        ,  0.        ,\n",
       "         0.        ,  0.        ],\n",
       "       [ 0.76078431,  0.6745098 ,  0.76470588,  0.        ,  0.        ,\n",
       "         0.        ,  0.        ],\n",
       "       [ 0.75686275,  0.6745098 ,  0.76078431,  0.        ,  0.        ,\n",
       "         0.        ,  0.        ],\n",
       "       [ 0.75686275,  0.67058824,  0.75686275,  0.        ,  0.        ,\n",
       "         0.        ,  0.        ],\n",
       "       [ 0.75294118,  0.67058824,  0.75686275,  0.        ,  0.        ,\n",
       "         0.        ,  0.        ],\n",
       "       [ 0.75686275,  0.6745098 ,  0.76078431,  0.        ,  0.        ,\n",
       "         0.        ,  0.        ],\n",
       "       [ 0.75686275,  0.67058824,  0.75294118,  0.        ,  0.        ,\n",
       "         0.        ,  0.        ],\n",
       "       [ 0.74901961,  0.66666667,  0.74901961,  0.        ,  0.        ,\n",
       "         0.        ,  0.        ],\n",
       "       [ 0.75686275,  0.66666667,  0.74901961,  0.        ,  0.        ,\n",
       "         0.        ,  0.        ],\n",
       "       [ 0.76470588,  0.6745098 ,  0.75294118,  0.        ,  0.        ,\n",
       "         0.        ,  0.        ],\n",
       "       [ 0.74901961,  0.6627451 ,  0.75294118,  0.        ,  0.        ,\n",
       "         0.        ,  0.        ],\n",
       "       [ 0.75686275,  0.66666667,  0.74901961,  0.47368421,  0.        ,\n",
       "         0.        ,  0.        ],\n",
       "       [ 0.75294118,  0.6627451 ,  0.75294118,  0.47773279,  0.        ,\n",
       "         0.        ,  0.        ],\n",
       "       [ 0.75686275,  0.67058824,  0.75686275,  0.47773279,  0.        ,\n",
       "         0.        ,  0.        ],\n",
       "       [ 0.75686275,  0.67058824,  0.75294118,  0.47773279,  0.        ,\n",
       "         0.        ,  0.        ],\n",
       "       [ 0.75294118,  0.67058824,  0.75294118,  0.47773279,  0.        ,\n",
       "         0.        ,  0.        ],\n",
       "       [ 0.76078431,  0.66666667,  0.75294118,  0.47368421,  0.        ,\n",
       "         0.        ,  0.        ],\n",
       "       [ 0.74509804,  0.6627451 ,  0.74509804,  0.47773279,  0.        ,\n",
       "         0.        ,  0.        ],\n",
       "       [ 0.74509804,  0.6627451 ,  0.74509804,  0.46963563,  0.        ,\n",
       "         0.        ,  0.        ],\n",
       "       [ 0.75294118,  0.6627451 ,  0.74901961,  0.46963563,  0.        ,\n",
       "         0.        ,  0.        ],\n",
       "       [ 0.75686275,  0.        ,  0.        ,  0.        ,  0.        ,\n",
       "         0.        ,  0.        ],\n",
       "       [ 0.        ,  0.        ,  0.        ,  0.        ,  0.        ,\n",
       "         0.        ,  0.        ],\n",
       "       [ 0.        ,  0.        ,  0.        ,  0.        ,  0.        ,\n",
       "         0.        ,  0.        ],\n",
       "       [ 0.        ,  0.        ,  0.        ,  0.        ,  0.        ,\n",
       "         0.        ,  0.        ],\n",
       "       [ 0.        ,  0.        ,  0.        ,  0.        ,  0.        ,\n",
       "         0.        ,  0.        ],\n",
       "       [ 0.        ,  0.        ,  0.        ,  0.        ,  0.        ,\n",
       "         0.        ,  0.        ],\n",
       "       [ 0.        ,  0.        ,  0.        ,  0.        ,  0.        ,\n",
       "         0.        ,  0.        ],\n",
       "       [ 0.        ,  0.        ,  0.        ,  0.        ,  0.        ,\n",
       "         0.        ,  0.        ],\n",
       "       [ 0.        ,  0.        ,  0.        ,  0.        ,  0.        ,\n",
       "         0.        ,  0.        ],\n",
       "       [ 0.        ,  0.        ,  0.        ,  0.        ,  0.        ,\n",
       "         0.        ,  0.        ],\n",
       "       [ 0.        ,  0.        ,  0.        ,  0.        ,  0.        ,\n",
       "         0.        ,  0.        ],\n",
       "       [ 0.        ,  0.        ,  0.        ,  0.        ,  0.        ,\n",
       "         0.        ,  0.        ],\n",
       "       [ 0.        ,  0.        ,  0.        ,  0.        ,  0.        ,\n",
       "         0.        ,  0.        ],\n",
       "       [ 0.        ,  0.        ,  0.        ,  0.        ,  0.        ,\n",
       "         0.        ,  0.        ],\n",
       "       [ 0.        ,  0.        ,  0.        ,  0.        ,  0.        ,\n",
       "         0.        ,  0.        ],\n",
       "       [ 0.71372549,  0.63137255,  0.70588235,  0.        ,  0.        ,\n",
       "         0.        ,  0.        ],\n",
       "       [ 0.70980392,  0.62352941,  0.70196078,  0.        ,  0.        ,\n",
       "         0.        ,  0.        ],\n",
       "       [ 0.70196078,  0.61568627,  0.69411765,  0.        ,  0.        ,\n",
       "         0.        ,  0.        ],\n",
       "       [ 0.69803922,  0.62352941,  0.69411765,  0.        ,  0.        ,\n",
       "         0.        ,  0.        ],\n",
       "       [ 0.70588235,  0.61568627,  0.68627451,  0.        ,  0.        ,\n",
       "         0.        ,  0.        ],\n",
       "       [ 0.70588235,  0.61176471,  0.67843137,  0.        ,  0.        ,\n",
       "         0.        ,  0.        ],\n",
       "       [ 0.69411765,  0.60392157,  0.67843137,  0.        ,  0.        ,\n",
       "         0.        ,  0.        ],\n",
       "       [ 0.69019608,  0.60392157,  0.67058824,  0.        ,  0.        ,\n",
       "         0.        ,  0.        ],\n",
       "       [ 0.69019608,  0.6       ,  0.66666667,  0.        ,  0.        ,\n",
       "         0.        ,  0.        ],\n",
       "       [ 0.68235294,  0.59607843,  0.66666667,  0.41700405,  0.        ,\n",
       "         0.        ,  0.        ],\n",
       "       [ 0.68235294,  0.59607843,  0.6627451 ,  0.42105263,  0.        ,\n",
       "         0.        ,  0.        ],\n",
       "       [ 0.69019608,  0.6       ,  0.66666667,  0.42510121,  0.        ,\n",
       "         0.        ,  0.        ],\n",
       "       [ 0.69411765,  0.6       ,  0.6627451 ,  0.42105263,  0.        ,\n",
       "         0.        ,  0.        ],\n",
       "       [ 0.69411765,  0.59607843,  0.6627451 ,  0.42105263,  0.        ,\n",
       "         0.        ,  0.        ],\n",
       "       [ 0.69019608,  0.60392157,  0.66666667,  0.42105263,  0.        ,\n",
       "         0.        ,  0.        ],\n",
       "       [ 0.69411765,  0.60392157,  0.6627451 ,  0.42105263,  0.        ,\n",
       "         0.        ,  0.        ],\n",
       "       [ 0.69411765,  0.60392157,  0.6627451 ,  0.42105263,  0.        ,\n",
       "         0.        ,  0.        ],\n",
       "       [ 0.69019608,  0.59607843,  0.6627451 ,  0.42105263,  0.        ,\n",
       "         0.        ,  0.        ],\n",
       "       [ 0.67843137,  0.58823529,  0.65490196,  0.41700405,  0.        ,\n",
       "         0.        ,  0.        ],\n",
       "       [ 0.67058824,  0.58823529,  0.65098039,  0.40890688,  0.        ,\n",
       "         0.        ,  0.        ],\n",
       "       [ 0.        ,  0.        ,  0.        ,  0.        ,  0.        ,\n",
       "         0.        ,  0.        ],\n",
       "       [ 0.        ,  0.        ,  0.        ,  0.        ,  0.        ,\n",
       "         0.        ,  0.        ],\n",
       "       [ 0.        ,  0.        ,  0.        ,  0.        ,  0.        ,\n",
       "         0.        ,  0.        ],\n",
       "       [ 0.        ,  0.        ,  0.        ,  0.        ,  0.        ,\n",
       "         0.        ,  0.        ],\n",
       "       [ 0.        ,  0.        ,  0.        ,  0.        ,  0.        ,\n",
       "         0.        ,  0.        ],\n",
       "       [ 0.        ,  0.        ,  0.        ,  0.        ,  0.        ,\n",
       "         0.        ,  0.        ],\n",
       "       [ 0.        ,  0.        ,  0.        ,  0.        ,  0.        ,\n",
       "         0.        ,  0.        ],\n",
       "       [ 0.        ,  0.        ,  0.        ,  0.        ,  0.        ,\n",
       "         0.        ,  0.        ],\n",
       "       [ 0.        ,  0.        ,  0.        ,  0.        ,  0.        ,\n",
       "         0.        ,  0.        ],\n",
       "       [ 0.        ,  0.        ,  0.        ,  0.        ,  0.        ,\n",
       "         0.        ,  0.        ],\n",
       "       [ 0.        ,  0.        ,  0.        ,  0.        ,  0.        ,\n",
       "         0.        ,  0.        ],\n",
       "       [ 0.        ,  0.        ,  0.        ,  0.        ,  0.        ,\n",
       "         0.        ,  0.        ],\n",
       "       [ 0.        ,  0.        ,  0.        ,  0.        ,  0.        ,\n",
       "         0.        ,  0.        ],\n",
       "       [ 0.        ,  0.        ,  0.        ,  0.        ,  0.        ,\n",
       "         0.        ,  0.        ],\n",
       "       [ 0.6627451 ,  0.56470588,  0.63921569,  0.39676113,  0.        ,\n",
       "         0.        ,  0.        ],\n",
       "       [ 0.64705882,  0.56862745,  0.63137255,  0.39676113,  0.        ,\n",
       "         0.        ,  0.        ],\n",
       "       [ 0.65098039,  0.56470588,  0.63529412,  0.39676113,  0.        ,\n",
       "         0.        ,  0.        ],\n",
       "       [ 0.63529412,  0.55686275,  0.62352941,  0.39271255,  0.        ,\n",
       "         0.        ,  0.        ],\n",
       "       [ 0.63921569,  0.55686275,  0.61568627,  0.38866397,  0.        ,\n",
       "         0.        ,  0.        ],\n",
       "       [ 0.64705882,  0.56470588,  0.61176471,  0.39271255,  0.        ,\n",
       "         0.        ,  0.        ],\n",
       "       [ 0.65490196,  0.57254902,  0.63529412,  0.39676113,  0.        ,\n",
       "         0.        ,  0.        ],\n",
       "       [ 0.65098039,  0.56078431,  0.62745098,  0.39271255,  0.        ,\n",
       "         0.        ,  0.        ],\n",
       "       [ 0.63529412,  0.54509804,  0.60784314,  0.38461538,  0.        ,\n",
       "         0.        ,  0.        ],\n",
       "       [ 0.63529412,  0.55294118,  0.62352941,  0.38866397,  0.        ,\n",
       "         0.        ,  0.        ],\n",
       "       [ 0.67058824,  0.56862745,  0.63137255,  0.39676113,  0.        ,\n",
       "         0.        ,  0.        ],\n",
       "       [ 0.6627451 ,  0.57254902,  0.61960784,  0.39676113,  0.        ,\n",
       "         0.        ,  0.        ],\n",
       "       [ 0.60784314,  0.54117647,  0.57647059,  0.37246964,  0.        ,\n",
       "         0.        ,  0.        ],\n",
       "       [ 0.56470588,  0.50588235,  0.54901961,  0.34817814,  0.        ,\n",
       "         0.        ,  0.        ],\n",
       "       [ 0.62745098,  0.54117647,  0.6       ,  0.37651822,  0.        ,\n",
       "         0.        ,  0.        ]])"
      ]
     },
     "execution_count": 18,
     "metadata": {},
     "output_type": "execute_result"
    }
   ],
   "source": [
    "feature_set_norm[1:100,:]"
   ]
  },
  {
   "cell_type": "code",
   "execution_count": null,
   "metadata": {
    "collapsed": true
   },
   "outputs": [],
   "source": []
  }
 ],
 "metadata": {
  "anaconda-cloud": {},
  "kernelspec": {
   "display_name": "Python [default]",
   "language": "python",
   "name": "python3"
  },
  "language_info": {
   "codemirror_mode": {
    "name": "ipython",
    "version": 3
   },
   "file_extension": ".py",
   "mimetype": "text/x-python",
   "name": "python",
   "nbconvert_exporter": "python",
   "pygments_lexer": "ipython3",
   "version": "3.5.2"
  }
 },
 "nbformat": 4,
 "nbformat_minor": 1
}
